{
 "cells": [
  {
   "cell_type": "markdown",
   "metadata": {},
   "source": [
    "## Structures de base de python à connaitre pour faire du machine learning et de la data science "
   ]
  },
  {
   "cell_type": "markdown",
   "metadata": {},
   "source": [
    "# Variables \n",
    "\n",
    "C'est quoi une variable ?\n",
    "c'est juste une zone ou un espace de la memoire de l'ordinateur ou une variable est stockée. \n",
    "il existe plusieurs types de variable en python (https://fr.wikiversity.org/wiki/Python/Les_types_de_base). \n",
    "\n",
    "Lors de la creation d'une variable on a besoin de dire à python quel type de variable est censé contenir la variable. Python a un Typage Dynamique, c'est a dire qu'il va devenir qu'elle est le type que tu as choisi creera la variable pour premiere fois ( premiere affectation)\n"
   ]
  },
  {
   "cell_type": "code",
   "execution_count": 22,
   "metadata": {},
   "outputs": [
    {
     "name": "stdout",
     "output_type": "stream",
     "text": [
      "<class 'int'>\n",
      "<class 'str'>\n",
      "<class 'int'>\n",
      "<class 'float'>\n",
      "<class 'str'>\n",
      "<class 'bool'>\n"
     ]
    }
   ],
   "source": [
    "a=3\n",
    "print(type(a)) # python a deviné que c'etait un entier\n",
    "\n",
    "b='toto'\n",
    "print(type(b)) #python a deviné que c'etait une chaine de caractère\n",
    "\n",
    "###principaux types de variables ####\n",
    "a=45\n",
    "#type int (entier)\n",
    "print(type(a))\n",
    "#type Float (reel)\n",
    "b=45.6\n",
    "#type str (caractere)\n",
    "print(type(b))\n",
    "b='papa'\n",
    "print(type(b))\n",
    "#type boolean (bool)\n",
    "A=True\n",
    "print(type(A))"
   ]
  },
  {
   "cell_type": "code",
   "execution_count": 5,
   "metadata": {},
   "outputs": [
    {
     "name": "stdout",
     "output_type": "stream",
     "text": [
      "30\n",
      "45\n",
      "3 7\n"
     ]
    }
   ],
   "source": [
    "a=45\n",
    "c=30\n",
    "# differentes syntaxes pour affecteur des valeurs à une variable simultanément\n",
    "#methode 1\n",
    "a=45 ; c=30\n",
    "#methode 2\n",
    "d,f=3,7\n",
    "print(d,f)\n",
    "#methode 2 Aide à echanger les valeurs de deux variables\n",
    "a,c=c,a # c'est rapide ! pas besoin de variable temporaire\n",
    "print(a)\n",
    "print(c)"
   ]
  },
  {
   "cell_type": "markdown",
   "metadata": {},
   "source": [
    "Le nom des variables en Python peut être constitué de lettres minuscules (a à z), de lettres majuscules (A à Z), de nombres (0 à 9) ou du caractère souligné (_). Vous ne pouvez pas utiliser d'espace dans un nom de variable.\n",
    "\n",
    "Par ailleurs, un nom de variable ne doit pas débuter par un chiffre et il n'est pas recommandé de le faire débuter par le caractère _ (sauf cas très particuliers).\n",
    "\n",
    "De plus, il faut absolument éviter d'utiliser un mot « réservé » par Python comme nom de variable (par exemple : print, range, for, from, etc.).\n",
    "\n",
    "Enfin, Python est sensible à la casse, ce qui signifie que les variables TesT, test ou TEST sont différentes."
   ]
  },
  {
   "cell_type": "code",
   "execution_count": 13,
   "metadata": {},
   "outputs": [
    {
     "name": "stdout",
     "output_type": "stream",
     "text": [
      "5 0 6\n"
     ]
    }
   ],
   "source": [
    "#nom de variables qui sont impossibles\n",
    "#caracteres speciaux\n",
    "#@ou=5 #pas possible\n",
    "#$p=4  #pas possible aussi\n",
    "\n",
    "#nom de variable commence toujours par une lettre ou _ / \n",
    "#pas utiliser les mots reservé (break,not ,pass,if,...)\n",
    "point=5 #okay\n",
    "_var=7 #okay\n",
    "\n",
    "#affecter une expression (+,*,-,%,/,**)\n",
    "a=5 ; b=1\n",
    "c=a**b #exposant\n",
    "d=6%2\n",
    "h=a+b\n",
    "print(c,d,h)"
   ]
  },
  {
   "cell_type": "code",
   "execution_count": 6,
   "metadata": {},
   "outputs": [
    {
     "ename": "SyntaxError",
     "evalue": "invalid syntax (<ipython-input-6-6970670a1a22>, line 1)",
     "output_type": "error",
     "traceback": [
      "\u001b[1;36m  File \u001b[1;32m\"<ipython-input-6-6970670a1a22>\"\u001b[1;36m, line \u001b[1;32m1\u001b[0m\n\u001b[1;33m    la balle=4\u001b[0m\n\u001b[1;37m           ^\u001b[0m\n\u001b[1;31mSyntaxError\u001b[0m\u001b[1;31m:\u001b[0m invalid syntax\n"
     ]
    }
   ],
   "source": [
    " la balle=4 ## pas possible"
   ]
  },
  {
   "cell_type": "code",
   "execution_count": 9,
   "metadata": {},
   "outputs": [
    {
     "name": "stdout",
     "output_type": "stream",
     "text": [
      "True True\n",
      "yapi\n",
      "<class 'bool'>\n",
      "1\n",
      "<class 'int'>\n"
     ]
    }
   ],
   "source": [
    "#creer des variables boolean ( un autre de type de variable)\n",
    "a=True \n",
    "b=5\n",
    "k=b==5 #beaucoup d'interet\n",
    "j=b<6\n",
    "print(k,j)\n",
    "\n",
    "#on peut convertir des variables dans un autre type (int(),str(),float(),bool(),...)\n",
    "c=True\n",
    "print(type(c))\n",
    "c=int(c)\n",
    "print(c)\n",
    "print(type(c))\n",
    "#boolean : T==>1 ; F==>0\n"
   ]
  },
  {
   "cell_type": "code",
   "execution_count": 8,
   "metadata": {},
   "outputs": [
    {
     "data": {
      "text/plain": [
       "True"
      ]
     },
     "execution_count": 8,
     "metadata": {},
     "output_type": "execute_result"
    }
   ],
   "source": [
    "bool('False')"
   ]
  },
  {
   "cell_type": "code",
   "execution_count": 2,
   "metadata": {},
   "outputs": [
    {
     "ename": "ValueError",
     "evalue": "invalid literal for int() with base 10: 'papa'",
     "output_type": "error",
     "traceback": [
      "\u001b[1;31m---------------------------------------------------------------------------\u001b[0m",
      "\u001b[1;31mValueError\u001b[0m                                Traceback (most recent call last)",
      "\u001b[1;32m<ipython-input-2-f9f39e8577fd>\u001b[0m in \u001b[0;36m<module>\u001b[1;34m\u001b[0m\n\u001b[0;32m      3\u001b[0m \u001b[0mtype\u001b[0m\u001b[1;33m(\u001b[0m\u001b[0mc\u001b[0m\u001b[1;33m)\u001b[0m\u001b[1;33m\u001b[0m\u001b[1;33m\u001b[0m\u001b[0m\n\u001b[0;32m      4\u001b[0m \u001b[0md\u001b[0m\u001b[1;33m=\u001b[0m\u001b[1;34m'papa'\u001b[0m\u001b[1;33m\u001b[0m\u001b[1;33m\u001b[0m\u001b[0m\n\u001b[1;32m----> 5\u001b[1;33m \u001b[0mint\u001b[0m\u001b[1;33m(\u001b[0m\u001b[0md\u001b[0m\u001b[1;33m)\u001b[0m\u001b[1;33m\u001b[0m\u001b[1;33m\u001b[0m\u001b[0m\n\u001b[0m",
      "\u001b[1;31mValueError\u001b[0m: invalid literal for int() with base 10: 'papa'"
     ]
    }
   ],
   "source": [
    "#impossible de transformer les chaines de caracteres qui ne sont pas des chiffres en entier ou float\n",
    "c='2'\n",
    "c=int(c)\n",
    "type(c)\n",
    "d='papa'\n",
    "int(d)"
   ]
  },
  {
   "cell_type": "code",
   "execution_count": 6,
   "metadata": {},
   "outputs": [
    {
     "name": "stdout",
     "output_type": "stream",
     "text": [
      "(2+4j)\n"
     ]
    }
   ],
   "source": [
    "b=complex(2,4)\n",
    "print(b)"
   ]
  },
  {
   "cell_type": "code",
   "execution_count": 16,
   "metadata": {},
   "outputs": [
    {
     "name": "stdout",
     "output_type": "stream",
     "text": [
      "mon nom est kouadio et mon prenom est franck\n",
      "mon nom est kouadio et mon prenom est franck\n"
     ]
    }
   ],
   "source": [
    "# fonction format tres interressant et utile\n",
    "nom='kouadio'\n",
    "prenom='franck'\n",
    "c='mon nom est {} et mon prenom est {}'.format(nom,prenom)\n",
    "print(c)\n",
    "\n",
    "#ou peut utiliser aussi\n",
    "print(f'mon nom est {nom} et mon prenom est {prenom}')"
   ]
  },
  {
   "cell_type": "markdown",
   "metadata": {},
   "source": [
    "# Fonction "
   ]
  },
  {
   "cell_type": "markdown",
   "metadata": {},
   "source": [
    "2 manieres de créer une fonction en python"
   ]
  },
  {
   "cell_type": "code",
   "execution_count": 17,
   "metadata": {},
   "outputs": [
    {
     "name": "stdout",
     "output_type": "stream",
     "text": [
      "25\n",
      "36\n",
      "<class 'function'>\n",
      "<class 'function'>\n"
     ]
    },
    {
     "data": {
      "text/plain": [
       "6"
      ]
     },
     "execution_count": 17,
     "metadata": {},
     "output_type": "execute_result"
    }
   ],
   "source": [
    "#1ere methode (generale)\n",
    "\n",
    "def carre(x):\n",
    "    a=x**2\n",
    "    1\n",
    "    return a\n",
    "\n",
    "print(carre(5))\n",
    "\n",
    "#2ieme Methode (fonction mathematique)\n",
    "carre1=lambda x : x**2\n",
    "print(carre1(6))\n",
    "\n",
    "print(type(carre1))\n",
    "print(type(carre))\n",
    "\n",
    "f=lambda x : 3*x\n",
    "g=lambda x,y : x+y\n",
    "g(4,2)"
   ]
  },
  {
   "cell_type": "code",
   "execution_count": 7,
   "metadata": {},
   "outputs": [
    {
     "data": {
      "text/plain": [
       "\u001b[1;31mInit signature:\u001b[0m \u001b[0mtype\u001b[0m\u001b[1;33m(\u001b[0m\u001b[0mself\u001b[0m\u001b[1;33m,\u001b[0m \u001b[1;33m/\u001b[0m\u001b[1;33m,\u001b[0m \u001b[1;33m*\u001b[0m\u001b[0margs\u001b[0m\u001b[1;33m,\u001b[0m \u001b[1;33m**\u001b[0m\u001b[0mkwargs\u001b[0m\u001b[1;33m)\u001b[0m\u001b[1;33m\u001b[0m\u001b[1;33m\u001b[0m\u001b[0m\n",
       "\u001b[1;31mDocstring:\u001b[0m     \n",
       "type(object_or_name, bases, dict)\n",
       "type(object) -> the object's type\n",
       "type(name, bases, dict) -> a new type\n",
       "\u001b[1;31mType:\u001b[0m           type\n",
       "\u001b[1;31mSubclasses:\u001b[0m     ABCMeta, EnumMeta, _TemplateMetaclass, MetaHasDescriptors, PyCStructType, UnionType, PyCPointerType, PyCArrayType, PyCSimpleType, PyCFuncPtrType, ...\n"
      ]
     },
     "metadata": {},
     "output_type": "display_data"
    }
   ],
   "source": []
  },
  {
   "cell_type": "code",
   "execution_count": 3,
   "metadata": {},
   "outputs": [
    {
     "name": "stdout",
     "output_type": "stream",
     "text": [
      "12\n",
      "92\n",
      "None\n"
     ]
    }
   ],
   "source": [
    "# Attention !!!!\n",
    "\n",
    "#dans ce exemple on peut stocker le resultat dans une variable et l'utiliser (c'est une fonction)\n",
    "def f1(x):\n",
    "    a=2+x\n",
    "    return(a)\n",
    "    \n",
    "#Ici c'est juste un affichage ( c'est une procedure !!)\n",
    "def f2(x):\n",
    "    a=2+x\n",
    "    print(a)\n",
    "\n",
    "y = f1(10)\n",
    "print(y)\n",
    "z = f2(90) #juste un affichage\n",
    "print(z) # affiche none c'est normale puisque fait ne retourne rien"
   ]
  },
  {
   "cell_type": "code",
   "execution_count": 75,
   "metadata": {},
   "outputs": [
    {
     "name": "stdout",
     "output_type": "stream",
     "text": [
      "100\n",
      "20\n",
      "20\n",
      "2 *  0 = 0\n",
      "2 *  1 = 2\n",
      "2 *  2 = 4\n",
      "2 *  3 = 6\n",
      "2 *  4 = 8\n",
      "2 *  5 = 10\n",
      "2 *  6 = 12\n",
      "2 *  7 = 14\n",
      "2 *  8 = 16\n",
      "2 *  9 = 18\n",
      "2 *  10 = 20\n"
     ]
    }
   ],
   "source": [
    "#variable globale et variable locale\n",
    "\n",
    "def Aire(L,l):\n",
    "    calcul=L*l\n",
    "    return calcul\n",
    "#print(calcul) # calcul variable locale\n",
    "p=100 #varibale globale # on peut pas la modifier a l'interieur d'une fonction\n",
    "print(p)\n",
    "\n",
    "#pour que 'calcul' devienne une variable globale\n",
    "def Aire(L,l):\n",
    "    global calcul\n",
    "    calcul=L*l\n",
    "    return calcul\n",
    "\n",
    "print(Aire(4,5))\n",
    "print(calcul) #visible maintenant\n",
    "\n",
    "#on peut avoir des fonctions sans parametres ==> procedure\n",
    "\n",
    "def table2():\n",
    "    for i in range(0,11) :\n",
    "        print('2 * ',i,'=',2*i)\n",
    "        \n",
    "table2()"
   ]
  },
  {
   "cell_type": "markdown",
   "metadata": {},
   "source": [
    "# Structure de Controle"
   ]
  },
  {
   "cell_type": "code",
   "execution_count": 4,
   "metadata": {},
   "outputs": [
    {
     "name": "stdout",
     "output_type": "stream",
     "text": [
      "0 nulle\n",
      "boujour\n",
      "boujour\n",
      "boujour\n",
      "boujour\n",
      "boujour\n",
      "boujour\n",
      "boujour\n",
      "boujour\n",
      "boujour\n",
      "10\n",
      "7\n",
      "4\n",
      "1\n",
      "-2\n",
      "-5\n",
      "-8\n",
      "0\n",
      "1\n",
      "2\n",
      "3\n",
      "4\n",
      "5\n",
      "6\n",
      "7\n",
      "8\n",
      "9\n"
     ]
    }
   ],
   "source": [
    "#IF-ELIF-ELSE\n",
    "\n",
    "def sign(x):\n",
    "    if x>0 :\n",
    "        print(x,'positif')\n",
    "    elif x==0:\n",
    "        print(x,'null')\n",
    "    else : \n",
    "        print(x,'negatif')\n",
    "\n",
    "    \n",
    "#x>0 est un booleen\n",
    "#on peut utiliser les operateurs de logiques \n",
    "# & ==> et ; or ==> ou ; not==>non\n",
    "\n",
    "#exemple\n",
    "y=0\n",
    "if not(y==0):\n",
    "    print(y,'n\\'est pas nulle')\n",
    "else:\n",
    "    print(y,'nulle')\n",
    "\n",
    "\n",
    "#BOUCLE FOR\n",
    "\n",
    "for i in range(1,10):\n",
    "    print('boujour')\n",
    "    \n",
    "#range ==> fonction qui genere une sequence\n",
    "for i in range(10,-10,-3): #range(debut,fin ,pas)\n",
    "        print(i)\n",
    "        \n",
    "#boucle WHILE\n",
    "#faire des iterations si la condition est respectee\n",
    "\n",
    "x=0\n",
    "while x<10 :\n",
    "    print(x)\n",
    "    x+=1\n"
   ]
  },
  {
   "cell_type": "markdown",
   "metadata": {},
   "source": [
    " # Structures de donnee : sequences"
   ]
  },
  {
   "cell_type": "markdown",
   "metadata": {},
   "source": [
    "# LISTES / TUPLES"
   ]
  },
  {
   "cell_type": "code",
   "execution_count": 20,
   "metadata": {},
   "outputs": [
    {
     "name": "stdout",
     "output_type": "stream",
     "text": [
      "[1, 2, 4, 9]\n",
      "[[1, 2, 4, 9], ['Abidjan', 'Divo', 'Man', 'Abengourou']]\n",
      "(1, 3, 5, 7, 8)\n",
      "Abidjan Divo\n",
      "Abengourou\n",
      "[1, 2]\n",
      "['Abidjan', 'Divo', 'Man', 'Abengourou']\n",
      "['Man', 'Abengourou']\n",
      "['Abengourou', 'Man', 'Divo', 'Abidjan']\n",
      "luc\n",
      "[1, 2, 4, 9, 5]\n",
      "1\n",
      "1\n",
      "2\n",
      "4\n",
      "5\n",
      "0 ['Abidjan', 'Divo', 'Man', 'Abengourou']\n",
      "1 ['Abidjan', 'Divo', 'Man', 'Abengourou']\n",
      "2 ['Abidjan', 'Divo', 'Man', 'Abengourou']\n",
      "3 ['Abidjan', 'Divo', 'Man', 'Abengourou']\n",
      "1 Abidjan\n",
      "2 Divo\n",
      "4 Man\n",
      "5 Abengourou\n"
     ]
    }
   ],
   "source": [
    "#creation d'une liste \n",
    "liste=[] # liste vide\n",
    "liste1=[1,2,4,9] #liste de nombre\n",
    "print(liste1)\n",
    "type(liste1)\n",
    "villes=['Abidjan','Divo','Man','Abengourou'] #liste de chaine de charactere\n",
    "liste2=[liste1,villes] #liste qui contient des listes\n",
    "print(liste2)\n",
    "\n",
    "#creation des tuples\n",
    "#utilises moins de memoire qu'une liste\n",
    "tuples1=tuple() #tuple vide\n",
    "tuples=(1,3,5,7,8) #comme une liste mais on ne peut pas modifier les elements #immutable\n",
    "print(tuples)\n",
    "type(tuples)\n",
    "\n",
    "#la difference entre tuple et liste \n",
    "#1 on ne peut pas modifier les element d'un tuple , une liste oui\n",
    "#2 un tuple contient les elements de meme type mais dans une liste on peut mettre n'importe quoi \n",
    "#chaine de charactere\n",
    "\n",
    "#une sequence est une struture de donnee qui suit un ordre\n",
    "#chaque element est indexe (0,1,...) #important\n",
    "\n",
    "########################################## Indexing ####################################\n",
    "#acces aux elements d'une liste\n",
    "print(villes[0],villes[1])\n",
    "#acces au dernier element\n",
    "print(villes[-1])\n",
    "########################################## Slicing ####################################\n",
    "#acces a un bloc d'element\n",
    "print(liste1[0:2:1]) #liste[debut:fin:pas]\n",
    "print(villes[0:])\n",
    "print(villes[2:])\n",
    "print(villes[::-1])# a chercher\n",
    "\n",
    "prenom='luca' \n",
    "print(prenom[0:3]) # une chaine de caractere peut etre vu comme une liste de lettre !\n",
    "\n",
    "#oriente Objet (rappelez vous de ce que moriah a expliquer).... \n",
    "#tout est objet donc une liste est un objet\n",
    "#liste1. # tapez sur tab pour avec acces aux methodes ou fonctions disponibles sur les listes\n",
    "liste1.append(5) #ajouter 5 dans la liste\n",
    "print(liste1)\n",
    "liste1.insert(4,'paris') #inserer a un endroit precis\n",
    "##.extend pour ajouter une liste\n",
    "##.sort(reverse=T)\n",
    "##.count() #compter le nombre de fois qu'un element est dans une liste\n",
    "print(liste1.count('paris'))\n",
    "len(villes)\n",
    "\n",
    "# et bien d'autre possibilites\n",
    "\n",
    "##on peut utiliser les structures de controles avec ( in liste , for..in liste ,etc)\n",
    "liste1=[1,2,4,5]\n",
    "\n",
    "for i in liste1:\n",
    "    print(i)\n",
    "    \n",
    "    \n",
    "#BONUS !!!!!!!!!!!!!!!!!!!!!!!!!!!!!!!!!!!!!!!!!!!!!!!!!!!\n",
    "#utilisation in enumerate avec for\n",
    "\n",
    "#affiche l'element et son index\n",
    "for index , nb in enumerate(liste1):\n",
    "    print(index,villes)\n",
    "    \n",
    "#commande zip utiliser for avec deux listes en parallele\n",
    "#on parcourt deux listes a la fois\n",
    "#s'arrete la ou la liste la plus courte s'arrete\n",
    "for a ,b in zip(liste1,villes):\n",
    "    print(a,b)\n"
   ]
  },
  {
   "cell_type": "code",
   "execution_count": 21,
   "metadata": {},
   "outputs": [
    {
     "ename": "TypeError",
     "evalue": "'tuple' object does not support item assignment",
     "output_type": "error",
     "traceback": [
      "\u001b[1;31m---------------------------------------------------------------------------\u001b[0m",
      "\u001b[1;31mTypeError\u001b[0m                                 Traceback (most recent call last)",
      "\u001b[1;32m<ipython-input-21-389c88cb2e53>\u001b[0m in \u001b[0;36m<module>\u001b[1;34m\u001b[0m\n\u001b[0;32m      1\u001b[0m \u001b[1;31m#impossible de modifier un tuple\u001b[0m\u001b[1;33m\u001b[0m\u001b[1;33m\u001b[0m\u001b[1;33m\u001b[0m\u001b[0m\n\u001b[0;32m      2\u001b[0m \u001b[0mtuples\u001b[0m\u001b[1;33m=\u001b[0m\u001b[1;33m(\u001b[0m\u001b[1;36m1\u001b[0m\u001b[1;33m,\u001b[0m\u001b[1;36m3\u001b[0m\u001b[1;33m,\u001b[0m\u001b[1;36m4\u001b[0m\u001b[1;33m)\u001b[0m\u001b[1;33m\u001b[0m\u001b[1;33m\u001b[0m\u001b[0m\n\u001b[1;32m----> 3\u001b[1;33m \u001b[0mtuples\u001b[0m\u001b[1;33m[\u001b[0m\u001b[1;36m1\u001b[0m\u001b[1;33m]\u001b[0m\u001b[1;33m=\u001b[0m\u001b[1;36m4\u001b[0m \u001b[1;31m#impossibe\u001b[0m\u001b[1;33m\u001b[0m\u001b[1;33m\u001b[0m\u001b[0m\n\u001b[0m",
      "\u001b[1;31mTypeError\u001b[0m: 'tuple' object does not support item assignment"
     ]
    }
   ],
   "source": [
    "#impossible de modifier un tuple\n",
    "tuples=(1,3,4)\n",
    "tuples[1]=4 #impossibe"
   ]
  },
  {
   "cell_type": "markdown",
   "metadata": {},
   "source": [
    "# Dictionnaire\n"
   ]
  },
  {
   "cell_type": "code",
   "execution_count": 169,
   "metadata": {},
   "outputs": [
    {
     "name": "stdout",
     "output_type": "stream",
     "text": [
      "dog 0\n",
      "{'chien': 'dog', 'chat': 'cat', 'souris': 'mouse', 'oiseau': 'bird', 'cheval': 'horse'}\n",
      "dog\n",
      "cat\n",
      "mouse\n",
      "bird\n",
      "horse\n"
     ]
    }
   ],
   "source": [
    "#Ensemble d'affectation cle :valeur\n",
    "# ca fonctionne cle =valeur\n",
    "traduction={'chien':'dog',\n",
    "               'chat':'cat',\n",
    "               'souris':'mouse',\n",
    "               'oiseau': 'bird'}\n",
    "\n",
    "#pas possible d'avoir la meme cle\n",
    "#traduction etant de type dictionnaire on utile l'oriente objet pour avoir acces a ces attributs\n",
    "traduction.values() # rencoie  les valeurs dans une liste\n",
    "traduction.keys()   #renvoie les cles dans une liste\n",
    "\n",
    "#ajouter un élement dans le dictionnaire\n",
    "traduction['cheval']='horse'\n",
    "#pas d'ordre dans un dictionnaire donc pas d'index!!!!!\n",
    "\n",
    "#quelques fonctions utiles\n",
    "#.get chercher une valeur et retourne 0 si il appartient au dico\n",
    "print(traduction.get('chien'),0)\n",
    "\n",
    "\n",
    "\n",
    "#utilisation des dictionaires avec for\n",
    "#affiche seulement les cles\n",
    "#.values() pour les valeurs\n",
    "#.items() pour cle et valeurs en meme temps ( biensur avec deux indices)\n",
    "for i in traduction.values():\n",
    "    print(i)"
   ]
  },
  {
   "cell_type": "markdown",
   "metadata": {},
   "source": [
    "# LIST COMPREHENSION / DICT COMPREHENSION\n"
   ]
  },
  {
   "cell_type": "code",
   "execution_count": 30,
   "metadata": {},
   "outputs": [
    {
     "name": "stdout",
     "output_type": "stream",
     "text": [
      "[0, 1, 4, 9, 16, 25, 36, 49, 64, 81]\n"
     ]
    },
    {
     "data": {
      "text/plain": [
       "[[0, 1, 2, 3, 4, 5, 6, 7, 8, 9, 10],\n",
       " [0, 1, 2, 3, 4, 5, 6, 7, 8, 9, 10],\n",
       " [0, 1, 2, 3, 4, 5, 6, 7, 8, 9, 10],\n",
       " [0, 1, 2, 3, 4, 5, 6, 7, 8, 9, 10],\n",
       " [0, 1, 2, 3, 4, 5, 6, 7, 8, 9, 10]]"
      ]
     },
     "execution_count": 30,
     "metadata": {},
     "output_type": "execute_result"
    }
   ],
   "source": [
    "#en gros on peut utiliser des for , des if bref des structures de controle pour creer une liste/un dictionnaire / un tuple\n",
    "#list comprehension\n",
    "#plus professionnel et moins loins  \n",
    "#inserer la boucle for a l'interieur de la liste\n",
    "liste_1=[i**2 for i in range(0,10)]\n",
    "print(liste_1)\n",
    "\n",
    "#creation nested list / liste contenant d'autre liste\n",
    "liste_2=[[i for i in range(11)] for j in range(5)]  \n",
    "liste_2\n"
   ]
  },
  {
   "cell_type": "code",
   "execution_count": 5,
   "metadata": {},
   "outputs": [
    {
     "name": "stdout",
     "output_type": "stream",
     "text": [
      "{0: 'luca', 1: 'daniel'}\n",
      "{'luca': 23, 'daniel': 43}\n",
      "{'daniel': 43}\n"
     ]
    }
   ],
   "source": [
    "#dict comprehension\n",
    "prenoms=['luca','daniel']\n",
    "dico={k:v for k,v in enumerate(prenoms)}\n",
    "print(dico)\n",
    "\n",
    "ages=[23,43]\n",
    "dico_2={k:v for k,v in zip(prenoms,ages)}\n",
    "print(dico_2)\n",
    "\n",
    "dico_3={k:v for k,v in zip(prenoms,ages) if v>34}\n",
    "print(dico_3)"
   ]
  },
  {
   "cell_type": "markdown",
   "metadata": {},
   "source": [
    "# Tuples comprehension"
   ]
  },
  {
   "cell_type": "code",
   "execution_count": 198,
   "metadata": {},
   "outputs": [
    {
     "data": {
      "text/plain": [
       "(0, 1, 4, 9, 16, 25, 36, 49, 64, 81)"
      ]
     },
     "execution_count": 198,
     "metadata": {},
     "output_type": "execute_result"
    }
   ],
   "source": [
    "#ici il faut utiler la fonction tuple() pour convertir en tuple sinon ca cree un generateur\n",
    "tuple_1=tuple((i**2 for i in range(10)))\n",
    "tuple_1  \n",
    "#sans tuple cela cree un generateur (a chercher)"
   ]
  },
  {
   "cell_type": "markdown",
   "metadata": {},
   "source": [
    "# Built-in functions "
   ]
  },
  {
   "cell_type": "markdown",
   "metadata": {},
   "source": [
    "Python a enormement de fonction de base(https://docs.python.org/3/library/functions.html)\n",
    "on a deja utilisé 'print', 'type' qui s'applique sur des objets differents\n",
    "\n",
    "\n",
    "\n"
   ]
  },
  {
   "cell_type": "code",
   "execution_count": 6,
   "metadata": {},
   "outputs": [],
   "source": [
    "#module important dans python pour la date science\n",
    "\n",
    "#pour les tableaux (dataframes)\n",
    "import pandas as pd\n",
    "#pour les matrices et vecteurs ( ce comporte comme R)\n",
    "import numpy as np\n",
    "#pour les graphes ( plot de python)\n",
    "import matplotlib.pyplot as plt\n",
    "#pour mettre  en place les modeles de Machine learning ( regression lineaire,Anova,...)\n",
    "import sklearn\n",
    "#pour gerer les chemins / repertoire courant de travail etc\n",
    "import os\n"
   ]
  },
  {
   "cell_type": "code",
   "execution_count": 8,
   "metadata": {},
   "outputs": [
    {
     "data": {
      "text/plain": [
       "['__doc__',\n",
       " '__loader__',\n",
       " '__name__',\n",
       " '__package__',\n",
       " '__spec__',\n",
       " 'acos',\n",
       " 'acosh',\n",
       " 'asin',\n",
       " 'asinh',\n",
       " 'atan',\n",
       " 'atan2',\n",
       " 'atanh',\n",
       " 'ceil',\n",
       " 'copysign',\n",
       " 'cos',\n",
       " 'cosh',\n",
       " 'degrees',\n",
       " 'e',\n",
       " 'erf',\n",
       " 'erfc',\n",
       " 'exp',\n",
       " 'expm1',\n",
       " 'fabs',\n",
       " 'factorial',\n",
       " 'floor',\n",
       " 'fmod',\n",
       " 'frexp',\n",
       " 'fsum',\n",
       " 'gamma',\n",
       " 'gcd',\n",
       " 'hypot',\n",
       " 'inf',\n",
       " 'isclose',\n",
       " 'isfinite',\n",
       " 'isinf',\n",
       " 'isnan',\n",
       " 'ldexp',\n",
       " 'lgamma',\n",
       " 'log',\n",
       " 'log10',\n",
       " 'log1p',\n",
       " 'log2',\n",
       " 'modf',\n",
       " 'nan',\n",
       " 'pi',\n",
       " 'pow',\n",
       " 'radians',\n",
       " 'remainder',\n",
       " 'sin',\n",
       " 'sinh',\n",
       " 'sqrt',\n",
       " 'tan',\n",
       " 'tanh',\n",
       " 'tau',\n",
       " 'trunc']"
      ]
     },
     "execution_count": 8,
     "metadata": {},
     "output_type": "execute_result"
    }
   ],
   "source": [
    "#exemple d;utilisation d'un module\n",
    "\n",
    "#module pour les fonctions math\n",
    "import math\n",
    "#module pour faire les stats\n",
    "import statistics\n",
    "#pour generer des nombres aleatoire\n",
    "import random\n",
    "\n",
    "math.cos(56) #calcul cos de 56\n",
    "statistics.mean([1,2,3]) #faire la moyenne\n",
    "random.gauss(4,6) #generer une realisation d'une loi normale\n",
    "\n",
    "#n'oubliez pas la syntaxe nonModule. (taper sur Tab pour voir les autres fonctions ou aller voir la documentation du module sur le site de python)\n",
    "\n",
    "#pour afficher les fonctions du modules ou packages\n",
    "dir(math)\n",
    "\n",
    "#du Couraaaaaaaaaaaage !!!!!"
   ]
  },
  {
   "cell_type": "markdown",
   "metadata": {},
   "source": [
    "https://www.w3resource.com/python/python-tutorial.php ( bon site pour faire des exercices )"
   ]
  }
 ],
 "metadata": {
  "kernelspec": {
   "display_name": "Python 3",
   "language": "python",
   "name": "python3"
  },
  "language_info": {
   "codemirror_mode": {
    "name": "ipython",
    "version": 3
   },
   "file_extension": ".py",
   "mimetype": "text/x-python",
   "name": "python",
   "nbconvert_exporter": "python",
   "pygments_lexer": "ipython3",
   "version": "3.7.4"
  }
 },
 "nbformat": 4,
 "nbformat_minor": 4
}
