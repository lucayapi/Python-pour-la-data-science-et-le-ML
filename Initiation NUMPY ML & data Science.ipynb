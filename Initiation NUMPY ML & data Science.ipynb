{
 "cells": [
  {
   "cell_type": "markdown",
   "metadata": {},
   "source": [
    "# NUMPY"
   ]
  },
  {
   "cell_type": "code",
   "execution_count": 3,
   "metadata": {},
   "outputs": [],
   "source": [
    "import numpy as np              "
   ]
  },
  {
   "cell_type": "code",
   "execution_count": 10,
   "metadata": {},
   "outputs": [
    {
     "name": "stdout",
     "output_type": "stream",
     "text": [
      "1\n",
      "(3,)\n",
      "3\n",
      "[[0. 0.]\n",
      " [0. 0.]\n",
      " [0. 0.]]\n",
      "[[1. 1. 1. 1.]\n",
      " [1. 1. 1. 1.]\n",
      " [1. 1. 1. 1.]]\n",
      "12\n",
      "[[9 9]\n",
      " [9 9]]\n",
      "[[-0.41475721 -0.33336867  0.08109199 -0.79102695]\n",
      " [-0.21859967 -0.76319684 -0.77712024  1.84935652]\n",
      " [-0.70560031 -0.08604203  0.2879333  -0.13138652]]\n",
      "[ 0.          0.52631579  1.05263158  1.57894737  2.10526316  2.63157895\n",
      "  3.15789474  3.68421053  4.21052632  4.73684211  5.26315789  5.78947368\n",
      "  6.31578947  6.84210526  7.36842105  7.89473684  8.42105263  8.94736842\n",
      "  9.47368421 10.        ]\n",
      "[0 1 2 3 4 5 6 7 8 9]\n"
     ]
    },
    {
     "data": {
      "text/plain": [
       "array([0.       , 0.5555556, 1.1111112, 1.6666666, 2.2222223, 2.7777777,\n",
       "       3.3333333, 3.8888888, 4.4444447, 5.       ], dtype=float32)"
      ]
     },
     "execution_count": 10,
     "metadata": {},
     "output_type": "execute_result"
    }
   ],
   "source": [
    "#tableau a N dimension (ND ARRAY)\n",
    "#1D ressemble a une liste mais elle plus pluissant et a plus d'attribut scientifique\n",
    "################## les plus importants a retenir ########################\n",
    "#constructeur\n",
    "#np.array / np.zeros / np.random.randn /...\n",
    "\n",
    "#shape , ndim,size\n",
    "# Dtype : float16,float64\n",
    "#manipulation\n",
    "#concatenate /hstack.vstack/reshape/squeeze/ravel\n",
    "\n",
    "#########################################################################\n",
    "\n",
    "import numpy as np\n",
    "\n",
    "#constructeur de base\n",
    "A=np.array([1,2,3])\n",
    "print(A.ndim)\n",
    "print(A.shape)\n",
    "#2 attribut a retentir Shape/size\n",
    "print(A.size)\n",
    "\n",
    "#constructeur pour initialiser\n",
    "#initialiser avec des zeros\n",
    "B=np.zeros((3,2))\n",
    "print(B)\n",
    "type(B.shape) # argument doit etre un tuple\n",
    "\n",
    "#initialiser avec des 1\n",
    "C=np.ones((3,4))\n",
    "print(C)\n",
    "print(C.size)\n",
    "\n",
    "#initialiser avec une valeur que j'ai choisi\n",
    "D=np.full( (2,2),9)\n",
    "print(D)\n",
    "\n",
    "\n",
    "#module random\n",
    "type(np.random)\n",
    "np.random.seed(31)\n",
    "#generateur de nombre aleatoire\n",
    "print(np.random.randn(3,4)) #nombre loi normale centre reduite\n",
    "\n",
    "#matrice identite\n",
    "np.eye(6)\n",
    "\n",
    "\n",
    "#sequence de nombre\n",
    "s=np.linspace(0,10,20) #sample dans R\n",
    "print(s)\n",
    "\n",
    "d=np.arange(0,10,1)\n",
    "print(d) #seq dans R \n",
    "\n",
    "#on peut choisir quel type de donne on veut dans notre tableau\n",
    "np.linspace(0,5,10,dtype=np.float32)\n"
   ]
  },
  {
   "cell_type": "code",
   "execution_count": 4,
   "metadata": {},
   "outputs": [
    {
     "data": {
      "text/plain": [
       "array([ 0. ,  2.5,  5. ,  7.5, 10. ])"
      ]
     },
     "execution_count": 4,
     "metadata": {},
     "output_type": "execute_result"
    }
   ],
   "source": [
    "import numpy as np\n",
    "\n",
    "b=np.zeros((3,3))\n",
    "type(b.shape)\n",
    "b.shape\n",
    "b.size\n",
    "\n",
    "np.linspace(0,10,5)"
   ]
  },
  {
   "cell_type": "code",
   "execution_count": 5,
   "metadata": {},
   "outputs": [
    {
     "name": "stdout",
     "output_type": "stream",
     "text": [
      "[1 2 3]\n",
      "<class 'numpy.ndarray'>\n"
     ]
    },
    {
     "data": {
      "text/plain": [
       "(3,)"
      ]
     },
     "execution_count": 5,
     "metadata": {},
     "output_type": "execute_result"
    }
   ],
   "source": [
    "vec=np.array([1,2,3])\n",
    "print(vec)\n",
    "print(type(vec))\n",
    "\n",
    "type(np.arange(0,10))\n",
    "\n",
    "vec.shape"
   ]
  },
  {
   "cell_type": "code",
   "execution_count": 6,
   "metadata": {},
   "outputs": [
    {
     "name": "stdout",
     "output_type": "stream",
     "text": [
      "[[1. 1.]\n",
      " [1. 1.]\n",
      " [1. 0.]\n",
      " [0. 1.]]\n",
      "[[1. 1. 1. 0.]\n",
      " [1. 1. 0. 1.]]\n",
      "[1 3 4 5]\n",
      "(4, 1)\n",
      "[1. 1. 1. 1.]\n"
     ]
    }
   ],
   "source": [
    "#manipulation des tableaux\n",
    "\n",
    "#coller des tableaux (hstack,vstack) #cbind et Rbind dans R\n",
    "\n",
    "A=np.ones((2,2))\n",
    "B=np.eye(2)\n",
    "\n",
    "c=np.vstack((A,B))\n",
    "print(c)\n",
    "D=np.hstack((A,B))\n",
    "print(D)\n",
    "\n",
    "#concatenate\n",
    "np.concatenate((A,B),axis=0)\n",
    "\n",
    "#methode reshape (changer la forme d'un tableau)\n",
    "\n",
    "D.size\n",
    "D=D.reshape((2,4))\n",
    "D\n",
    "#squeeze #faire disparaitre 1 dans shape\n",
    "\n",
    "#methode ravel applatir un tableau a une dimension\n",
    "#D.ravel()\n",
    "A=np.array([1,3,4,5])\n",
    "print(A)\n",
    "A.shape\n",
    "A=A.reshape((A.shape[0],1))\n",
    "print(A.shape)\n",
    "\n",
    "A=np.ones((2,2))\n",
    "A=A.ravel()\n",
    "print(A)"
   ]
  },
  {
   "cell_type": "code",
   "execution_count": 18,
   "metadata": {},
   "outputs": [
    {
     "data": {
      "text/plain": [
       "array([[1., 1., 1., 0.],\n",
       "       [1., 1., 0., 1.]])"
      ]
     },
     "execution_count": 18,
     "metadata": {},
     "output_type": "execute_result"
    }
   ],
   "source": [
    "A=np.ones((2,2))\n",
    "B=np.eye(2)\n",
    "\n",
    "np.concatenate((A,B),axis=1)"
   ]
  },
  {
   "cell_type": "code",
   "execution_count": 8,
   "metadata": {},
   "outputs": [
    {
     "data": {
      "text/plain": [
       "array(['lucien', 'emma', 'pascale', 'Anon'], dtype='<U7')"
      ]
     },
     "execution_count": 8,
     "metadata": {},
     "output_type": "execute_result"
    }
   ],
   "source": [
    "#indexing /slicing ?boolean indexing\n",
    "\n",
    "vec=np.array([1,2,3,4,5])\n",
    "vec[0]\n",
    "vec[4]\n",
    "vec[-1]\n",
    "vec[0:3]\n",
    "\n",
    "vec1=np.array([[1,2,3],[4,5,6]])\n",
    "vec1\n",
    "vec1[0:2,0:2]\n",
    "\n",
    "#boolean indexing\n",
    "ob=np.array([10,15,3,6,1])\n",
    "#masque\n",
    "ob>6 #== ; != ; < ; \n",
    "\n",
    "Age=np.array([30,21,27,31,56])\n",
    "Nom=np.array(['lucien','luca','emma','pascale','Anon'])\n",
    "\n",
    "masque=Age>21\n",
    "Nom[masque]\n",
    "\n"
   ]
  },
  {
   "cell_type": "code",
   "execution_count": 9,
   "metadata": {},
   "outputs": [
    {
     "name": "stdout",
     "output_type": "stream",
     "text": [
      "[[0 1 2 3 4 5 6 7 8 9]\n",
      " [0 1 2 3 4 5 6 7 8 9]]\n",
      "[[0. 0. 0. 0. 0.]\n",
      " [0. 0. 0. 0. 0.]\n",
      " [0. 0. 0. 0. 0.]\n",
      " [0. 0. 0. 0. 0.]\n",
      " [0. 0. 0. 0. 0.]]\n",
      "[[1. 0. 1. 0. 1.]\n",
      " [0. 0. 0. 0. 0.]\n",
      " [1. 0. 1. 0. 1.]\n",
      " [0. 0. 0. 0. 0.]\n",
      " [1. 0. 1. 0. 1.]]\n"
     ]
    }
   ],
   "source": [
    "#Indexing\n",
    "A=np.array([[i for i in range(10)],[i for i in  range(10)]])\n",
    "print(A)\n",
    "A[0,0]\n",
    "A[1,3]\n",
    "\n",
    "#slicing\n",
    "#le dernier point n'est jamais prise en compte\n",
    "A[:,0]\n",
    "A[0,:] #ou A[0] car c'est l'axe principale\n",
    "\n",
    "A[0:2,0:2]=10\n",
    "A[0,:-3]\n",
    "\n",
    "C=np.zeros((5,5))\n",
    "print(C)\n",
    "C[::2,::2]=1\n",
    "print(C)\n",
    "\n",
    "#on fait jamais du slicing avec un pas en data science\n",
    "\n",
    "#boolean indexing\n",
    "A=np.random.randint(0,10,[5,5])\n",
    "A<5 #masque\n",
    "A[A<5]=10\n"
   ]
  },
  {
   "cell_type": "code",
   "execution_count": 78,
   "metadata": {},
   "outputs": [],
   "source": [
    "#numpy seul qui nous permet de faire ca comme sur R\n",
    "#liste1=[2,4,4]\n",
    "#liste1>4"
   ]
  },
  {
   "cell_type": "code",
   "execution_count": 10,
   "metadata": {},
   "outputs": [
    {
     "name": "stdout",
     "output_type": "stream",
     "text": [
      "19\n",
      "[ 6 13]\n",
      "[[1. 1.]\n",
      " [1. 1.]]\n",
      "[0 1 2 3]\n",
      "[ 1  5 10 19]\n"
     ]
    }
   ],
   "source": [
    "#mathematique et stat avec Numpy\n",
    "#plus de fonction que le module math\n",
    "A=np.array([[1,4],[5,9]])\n",
    "print(A.sum())\n",
    "print(A.sum(axis=0)) #equivalent de apply\n",
    "A.mean(axis=1)\n",
    "\n",
    "#A.cumsum / A.prod / A.cumprod / A.min / A.max /A.argmax / A.sort/ A.argsort\n",
    "\n",
    "A.argmax(axis=0)\n",
    "A.var()\n",
    "\n",
    "print(np.corrcoef(A))\n",
    "\n",
    "#np.unique\n",
    "values , count=np.unique(A,return_counts=True) #un peu comme factor\n",
    "print(count.argsort())\n",
    "values[count.argsort()]\n",
    "print(A.cumsum())"
   ]
  },
  {
   "cell_type": "code",
   "execution_count": 11,
   "metadata": {},
   "outputs": [
    {
     "data": {
      "text/plain": [
       "array([[5., 5.],\n",
       "       [5., 5.]])"
      ]
     },
     "execution_count": 11,
     "metadata": {},
     "output_type": "execute_result"
    }
   ],
   "source": [
    "#Broadcasting\n",
    "A=np.ones((2,2))\n",
    "B=np.ones((2,2))\n",
    "\n",
    "C=A+B\n",
    "C=C+3\n",
    "C"
   ]
  },
  {
   "cell_type": "code",
   "execution_count": 12,
   "metadata": {},
   "outputs": [],
   "source": [
    "#en conclusion\n",
    "\n",
    "#constructeur ( np.array /np.zeros /np.random.randn)\n",
    "#manipulation ( A.reshape /A.ravel / A.concatenate)\n",
    "#methodes utiles ( A.min / A.mean /A.std /A.argmin/...)\n",
    "#boolean Indexing\n",
    "#Broadcasting !!!!\n",
    "\n",
    "\n",
    "\n",
    "\n"
   ]
  },
  {
   "cell_type": "code",
   "execution_count": 3,
   "metadata": {},
   "outputs": [],
   "source": [
    "vec=np.array([1,3,4,5,6,8])"
   ]
  },
  {
   "cell_type": "code",
   "execution_count": 4,
   "metadata": {},
   "outputs": [
    {
     "data": {
      "text/plain": [
       "numpy.ndarray"
      ]
     },
     "execution_count": 4,
     "metadata": {},
     "output_type": "execute_result"
    }
   ],
   "source": [
    "type(vec)"
   ]
  },
  {
   "cell_type": "code",
   "execution_count": 6,
   "metadata": {},
   "outputs": [],
   "source": [
    "import numpy as np\n",
    "mat=np.array([[1,3,4],[3,5,4],[5,7,9]])"
   ]
  },
  {
   "cell_type": "code",
   "execution_count": 11,
   "metadata": {},
   "outputs": [
    {
     "data": {
      "text/plain": [
       "array([ 9, 15, 17])"
      ]
     },
     "execution_count": 11,
     "metadata": {},
     "output_type": "execute_result"
    }
   ],
   "source": [
    "mat.sum(axis=0) #colonne"
   ]
  }
 ],
 "metadata": {
  "kernelspec": {
   "display_name": "Python 3",
   "language": "python",
   "name": "python3"
  },
  "language_info": {
   "codemirror_mode": {
    "name": "ipython",
    "version": 3
   },
   "file_extension": ".py",
   "mimetype": "text/x-python",
   "name": "python",
   "nbconvert_exporter": "python",
   "pygments_lexer": "ipython3",
   "version": "3.7.4"
  }
 },
 "nbformat": 4,
 "nbformat_minor": 4
}
